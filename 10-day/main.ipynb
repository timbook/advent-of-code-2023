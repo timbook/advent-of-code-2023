{
 "cells": [
  {
   "cell_type": "code",
   "execution_count": 149,
   "metadata": {},
   "outputs": [],
   "source": [
    "import re\n",
    "import numpy as np\n",
    "from itertools import product\n",
    "import networkx as nx\n",
    "from tqdm import tqdm"
   ]
  },
  {
   "cell_type": "code",
   "execution_count": 216,
   "metadata": {},
   "outputs": [],
   "source": [
    "# data_raw = np.loadtxt('data/sample4.txt', dtype=str, comments=None)\n",
    "data_raw = np.loadtxt('data/input.txt', dtype=str, comments=None)\n",
    "data = np.array([list(row) for row in data_raw])\n",
    "R, C = data.shape"
   ]
  },
  {
   "cell_type": "code",
   "execution_count": 217,
   "metadata": {},
   "outputs": [
    {
     "data": {
      "text/plain": [
       "array([['-', 'L', '7', ..., '.', '7', 'J'],\n",
       "       ['J', '.', '|', ..., 'L', '.', '.'],\n",
       "       ['|', '-', '|', ..., '-', 'L', 'F'],\n",
       "       ...,\n",
       "       ['|', 'L', 'J', ..., '|', '-', 'J'],\n",
       "       ['|', '-', 'L', ..., '|', '|', '|'],\n",
       "       ['|', '7', '-', ..., 'F', '|', 'J']], dtype='<U1')"
      ]
     },
     "execution_count": 217,
     "metadata": {},
     "output_type": "execute_result"
    }
   ],
   "source": [
    "data"
   ]
  },
  {
   "cell_type": "code",
   "execution_count": 218,
   "metadata": {},
   "outputs": [],
   "source": [
    "x, y = np.where(data == 'S')\n",
    "S = (x[0], y[0])"
   ]
  },
  {
   "cell_type": "code",
   "execution_count": 219,
   "metadata": {},
   "outputs": [],
   "source": [
    "data[S[0], S[1]] = 'F'\n",
    "visited = []\n",
    "to_explore = [S]\n",
    "\n",
    "while to_explore:\n",
    "    curr_node = to_explore.pop()\n",
    "    val = data[curr_node[0], curr_node[1]]\n",
    "    \n",
    "    # Go right?\n",
    "    if val in '-LF':\n",
    "        next_node = (curr_node[0], curr_node[1] + 1)\n",
    "        if next_node not in visited:\n",
    "            to_explore.append(next_node)\n",
    "            \n",
    "    # Go left?\n",
    "    if val in '-J7':\n",
    "        next_node = (curr_node[0], curr_node[1] - 1)\n",
    "        if next_node not in visited:\n",
    "            to_explore.append(next_node)\n",
    "    \n",
    "    # Go up?\n",
    "    if val in '|LJ':\n",
    "        next_node = (curr_node[0] - 1, curr_node[1])\n",
    "        if next_node not in visited:\n",
    "            to_explore.append(next_node)\n",
    "            \n",
    "    # Go down?\n",
    "    if val in '|7F':\n",
    "        next_node = (curr_node[0] + 1, curr_node[1])\n",
    "        if next_node not in visited:\n",
    "            to_explore.append(next_node)\n",
    "    \n",
    "    visited.append(curr_node)"
   ]
  },
  {
   "cell_type": "code",
   "execution_count": 220,
   "metadata": {},
   "outputs": [],
   "source": [
    "pipe_edges = list(set(visited.copy()))"
   ]
  },
  {
   "cell_type": "code",
   "execution_count": 221,
   "metadata": {},
   "outputs": [],
   "source": [
    "G = nx.Graph()"
   ]
  },
  {
   "cell_type": "code",
   "execution_count": 222,
   "metadata": {},
   "outputs": [],
   "source": [
    "for node in pipe_edges:\n",
    "    G.add_node(node)"
   ]
  },
  {
   "cell_type": "code",
   "execution_count": 223,
   "metadata": {},
   "outputs": [
    {
     "data": {
      "text/plain": [
       "6828.0"
      ]
     },
     "execution_count": 223,
     "metadata": {},
     "output_type": "execute_result"
    }
   ],
   "source": [
    "len(pipe_edges) / 2"
   ]
  },
  {
   "cell_type": "markdown",
   "metadata": {},
   "source": [
    "# Part B"
   ]
  },
  {
   "cell_type": "code",
   "execution_count": 232,
   "metadata": {},
   "outputs": [],
   "source": [
    "all_points = list(product(range(R), range(C)))\n",
    "non_pipe = [p for p in all_points if p not in pipe_edges]"
   ]
  },
  {
   "cell_type": "code",
   "execution_count": 233,
   "metadata": {},
   "outputs": [
    {
     "data": {
      "text/plain": [
       "19600"
      ]
     },
     "execution_count": 233,
     "metadata": {},
     "output_type": "execute_result"
    }
   ],
   "source": [
    "len(all_points)"
   ]
  },
  {
   "cell_type": "code",
   "execution_count": 234,
   "metadata": {},
   "outputs": [
    {
     "data": {
      "text/plain": [
       "5944"
      ]
     },
     "execution_count": 234,
     "metadata": {},
     "output_type": "execute_result"
    }
   ],
   "source": [
    "len(non_pipe)"
   ]
  },
  {
   "cell_type": "code",
   "execution_count": 235,
   "metadata": {},
   "outputs": [],
   "source": [
    "def count_span(ray):\n",
    "    ray_str = ''.join([data.__getitem__(p) if p in pipe_edges else '.' for p in ray])\n",
    "    spans = re.findall(\"(\\||F-*J|L-*7)\", ray_str)\n",
    "    return len(spans)"
   ]
  },
  {
   "cell_type": "code",
   "execution_count": 236,
   "metadata": {},
   "outputs": [
    {
     "name": "stderr",
     "output_type": "stream",
     "text": [
      "100%|██████████| 5944/5944 [13:48<00:00,  7.18it/s]\n"
     ]
    }
   ],
   "source": [
    "n_inner = 0\n",
    "\n",
    "for node in tqdm(non_pipe):\n",
    "    r, c = node\n",
    "    ray = [(r, cplus) for cplus in range(c + 1, C)]\n",
    "    n_intersections = count_span(ray)\n",
    "    if n_intersections % 2 == 1:\n",
    "        n_inner += 1"
   ]
  },
  {
   "cell_type": "code",
   "execution_count": 237,
   "metadata": {},
   "outputs": [
    {
     "data": {
      "text/plain": [
       "464"
      ]
     },
     "execution_count": 237,
     "metadata": {},
     "output_type": "execute_result"
    }
   ],
   "source": [
    "# Not 458\n",
    "# Not 464 - too high\n",
    "n_inner"
   ]
  },
  {
   "cell_type": "code",
   "execution_count": null,
   "metadata": {},
   "outputs": [],
   "source": []
  }
 ],
 "metadata": {
  "kernelspec": {
   "display_name": "Python 3",
   "language": "python",
   "name": "python3"
  },
  "language_info": {
   "codemirror_mode": {
    "name": "ipython",
    "version": 3
   },
   "file_extension": ".py",
   "mimetype": "text/x-python",
   "name": "python",
   "nbconvert_exporter": "python",
   "pygments_lexer": "ipython3",
   "version": "3.6.10"
  }
 },
 "nbformat": 4,
 "nbformat_minor": 4
}
