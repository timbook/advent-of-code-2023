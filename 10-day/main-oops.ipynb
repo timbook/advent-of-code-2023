{
 "cells": [
  {
   "cell_type": "code",
   "execution_count": 1,
   "metadata": {},
   "outputs": [],
   "source": [
    "import numpy as np\n",
    "from itertools import product\n",
    "import networkx as nx\n",
    "from tqdm import tqdm"
   ]
  },
  {
   "cell_type": "code",
   "execution_count": 21,
   "metadata": {},
   "outputs": [],
   "source": [
    "data_raw = np.loadtxt('data/sample.txt', dtype=str, comments=None)\n",
    "# data_raw = np.loadtxt('data/input.txt', dtype=str, comments=None)\n",
    "data = np.array([list(row) for row in data_raw])\n",
    "R, C = data.shape"
   ]
  },
  {
   "cell_type": "code",
   "execution_count": 22,
   "metadata": {},
   "outputs": [
    {
     "data": {
      "text/plain": [
       "array([['.', '.', 'F', '7', '.'],\n",
       "       ['.', 'F', 'J', '|', '.'],\n",
       "       ['S', 'J', '.', 'L', '7'],\n",
       "       ['|', 'F', '-', '-', 'J'],\n",
       "       ['L', 'J', '.', '.', '.']], dtype='<U1')"
      ]
     },
     "execution_count": 22,
     "metadata": {},
     "output_type": "execute_result"
    }
   ],
   "source": [
    "data"
   ]
  },
  {
   "cell_type": "code",
   "execution_count": 23,
   "metadata": {},
   "outputs": [],
   "source": [
    "x, y = np.where(data == 'S')\n",
    "S = (x[0], y[0])"
   ]
  },
  {
   "cell_type": "code",
   "execution_count": 24,
   "metadata": {},
   "outputs": [],
   "source": [
    "G = nx.Graph()"
   ]
  },
  {
   "cell_type": "code",
   "execution_count": 25,
   "metadata": {},
   "outputs": [],
   "source": [
    "def add_up(G, r, c):\n",
    "    if 0 <= r - 1 and data[r - 1, c] != '.':\n",
    "        G.add_edge((r, c), (r - 1, c))\n",
    "        \n",
    "def add_down(G, r, c):\n",
    "    if r + 1 < R and data[r + 1, c] != '.':\n",
    "        G.add_edge((r, c), (r + 1, c))\n",
    "        \n",
    "def add_left(G, r, c):\n",
    "    if 0 <= c - 1 and data[r, c - 1] != '.':\n",
    "        G.add_edge((r, c), (r, c - 1))\n",
    "        \n",
    "def add_right(G, r, c):\n",
    "    if c + 1 < C and data[r, c + 1] != '.':\n",
    "        G.add_edge((r, c), (r, c + 1))"
   ]
  },
  {
   "cell_type": "code",
   "execution_count": 26,
   "metadata": {},
   "outputs": [],
   "source": [
    "for r, c in product(range(R), range(C)):\n",
    "    val = data[r, c]\n",
    "    \n",
    "    # Skip ground nodes\n",
    "    if val != '.':\n",
    "        G.add_node((r, c))\n",
    "        \n",
    "    # Add up edges\n",
    "    if val in '|LJS':\n",
    "        add_up(G, r, c)\n",
    "        \n",
    "    # Add down edges\n",
    "    if val in '|7FS':\n",
    "        add_down(G, r, c)\n",
    "        \n",
    "    # Add left edges\n",
    "    if val in '-J7S':\n",
    "        add_left(G, r, c)\n",
    "        \n",
    "    # Add right edges\n",
    "    if val in '-LFS':\n",
    "        add_right(G, r, c)"
   ]
  },
  {
   "cell_type": "code",
   "execution_count": 27,
   "metadata": {},
   "outputs": [],
   "source": [
    "end_mx = np.zeros_like(data, dtype=int)"
   ]
  },
  {
   "cell_type": "code",
   "execution_count": 28,
   "metadata": {},
   "outputs": [],
   "source": [
    "max_dist = -1"
   ]
  },
  {
   "cell_type": "code",
   "execution_count": 29,
   "metadata": {},
   "outputs": [
    {
     "name": "stderr",
     "output_type": "stream",
     "text": [
      "100%|██████████| 16/16 [00:00<00:00, 13150.86it/s]\n"
     ]
    }
   ],
   "source": [
    "for n in tqdm(G.nodes):\n",
    "    try:\n",
    "        dist = nx.shortest_path_length(G, source=S, target=n)\n",
    "        if dist > max_dist:\n",
    "            max_dist = dist\n",
    "        end_mx[(n[0], n[1])] = dist\n",
    "    except:\n",
    "        pass"
   ]
  },
  {
   "cell_type": "markdown",
   "metadata": {},
   "source": [
    "### 272 too low\n",
    "### 341 too low"
   ]
  },
  {
   "cell_type": "code",
   "execution_count": 30,
   "metadata": {},
   "outputs": [
    {
     "data": {
      "text/plain": [
       "8"
      ]
     },
     "execution_count": 30,
     "metadata": {},
     "output_type": "execute_result"
    }
   ],
   "source": [
    "max_dist"
   ]
  },
  {
   "cell_type": "code",
   "execution_count": 31,
   "metadata": {},
   "outputs": [
    {
     "data": {
      "text/plain": [
       "array([[0, 0, 4, 5, 0],\n",
       "       [0, 2, 3, 6, 0],\n",
       "       [0, 1, 0, 7, 8],\n",
       "       [1, 4, 5, 6, 7],\n",
       "       [2, 3, 0, 0, 0]])"
      ]
     },
     "execution_count": 31,
     "metadata": {},
     "output_type": "execute_result"
    }
   ],
   "source": [
    "end_mx"
   ]
  },
  {
   "cell_type": "code",
   "execution_count": 32,
   "metadata": {},
   "outputs": [
    {
     "data": {
      "text/plain": [
       "8"
      ]
     },
     "execution_count": 32,
     "metadata": {},
     "output_type": "execute_result"
    }
   ],
   "source": [
    "np.max(end_mx)"
   ]
  },
  {
   "cell_type": "code",
   "execution_count": 33,
   "metadata": {},
   "outputs": [
    {
     "data": {
      "text/plain": [
       "NodeView(((0, 2), (1, 2), (0, 3), (1, 3), (1, 1), (2, 1), (2, 3), (2, 0), (3, 0), (2, 4), (3, 4), (4, 0), (3, 1), (4, 1), (3, 2), (3, 3)))"
      ]
     },
     "execution_count": 33,
     "metadata": {},
     "output_type": "execute_result"
    }
   ],
   "source": [
    "G.nodes"
   ]
  },
  {
   "cell_type": "code",
   "execution_count": 34,
   "metadata": {},
   "outputs": [
    {
     "data": {
      "text/plain": [
       "EdgeView([((0, 2), (1, 2)), ((0, 2), (0, 3)), ((1, 2), (1, 1)), ((0, 3), (1, 3)), ((1, 3), (2, 3)), ((1, 1), (2, 1)), ((2, 1), (2, 0)), ((2, 3), (2, 4)), ((2, 0), (3, 0)), ((3, 0), (4, 0)), ((2, 4), (3, 4)), ((3, 4), (3, 3)), ((4, 0), (4, 1)), ((3, 1), (4, 1)), ((3, 1), (3, 2)), ((3, 2), (3, 3))])"
      ]
     },
     "execution_count": 34,
     "metadata": {},
     "output_type": "execute_result"
    }
   ],
   "source": [
    "G.edges"
   ]
  },
  {
   "cell_type": "code",
   "execution_count": null,
   "metadata": {},
   "outputs": [],
   "source": []
  }
 ],
 "metadata": {
  "kernelspec": {
   "display_name": "Python 3",
   "language": "python",
   "name": "python3"
  },
  "language_info": {
   "codemirror_mode": {
    "name": "ipython",
    "version": 3
   },
   "file_extension": ".py",
   "mimetype": "text/x-python",
   "name": "python",
   "nbconvert_exporter": "python",
   "pygments_lexer": "ipython3",
   "version": "3.6.10"
  }
 },
 "nbformat": 4,
 "nbformat_minor": 4
}
